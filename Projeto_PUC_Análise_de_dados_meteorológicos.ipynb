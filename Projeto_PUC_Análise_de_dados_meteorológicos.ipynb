{
  "cells": [
    {
      "cell_type": "markdown",
      "source": [
        "\n",
        "# Análise de Dados Meteorológicos\n",
        "Este programa visa validar e analisar dados meteorológicos de uma cidade ao longo do ano de um ano. O usuário insere a temperatura máxima registrada para cada mês, e o programa realiza cálculos e análises com base nesses dados.\n"
      ],
      "metadata": {
        "id": "MaThZM3mzWcu"
      }
    },
    {
      "cell_type": "markdown",
      "source": [
        "# Função: `obter_mes_extenso`\n",
        "Essa função que recebe o número de um mês (1 a 12) e retorna o nome do mês por extenso. Ela é usada para exibir os meses de forma mais amigável ao usuário.\n"
      ],
      "metadata": {
        "id": "i-TOv97Tz4mt"
      }
    },
    {
      "cell_type": "code",
      "source": [
        "def obter_mes_extenso(mes):\n",
        "    # Lista com os nomes dos meses\n",
        "    meses = [\"janeiro\", \"fevereiro\", \"março\", \"abril\", \"maio\", \"junho\",\n",
        "             \"julho\", \"agosto\", \"setembro\", \"outubro\", \"novembro\", \"dezembro\"]\n",
        "    # Retorna o nome do mês correspondente ao número fornecido\n",
        "    return meses[mes - 1]\n"
      ],
      "metadata": {
        "id": "IMDqVYe20IOP"
      },
      "execution_count": null,
      "outputs": []
    },
    {
      "cell_type": "markdown",
      "source": [
        "## Funções: `validar_mes` e `validar_temperatura`\n",
        "Essas funções validam as entradas de usuário. A primeira garantindo que o mês esteja entre 1 e 12, e a segunda garante que a temperatura esteja dentro do intervalo permitido (-60°C a 50°C).\n"
      ],
      "metadata": {
        "id": "jGssBFvt0OHA"
      }
    },
    {
      "cell_type": "code",
      "source": [
        "def validar_mes(mes):\n",
        "    # Verifica se o mês está no intervalo de 1 a 12\n",
        "    return 1 <= mes <= 12\n",
        "\n",
        "def validar_temperatura(temp):\n",
        "    # Verifica se a temperatura está no intervalo de -60°C a 50°C\n",
        "    return -60 <= temp <= 50\n"
      ],
      "metadata": {
        "id": "eLHBZMGK0dzt"
      },
      "execution_count": null,
      "outputs": []
    },
    {
      "cell_type": "markdown",
      "source": [
        "## Função: `coletar_dados_ano`\n",
        "Essa função vai coletar as temperaturas máximas para todos os meses do ano, garantindo que os valores inseridos sejam válidos.\n"
      ],
      "metadata": {
        "id": "KHPi2_bu0kPq"
      }
    },
    {
      "cell_type": "code",
      "source": [
        "def coletar_dados_ano():\n",
        "    temperaturas_maximas = []\n",
        "    for i in range(1, 13):\n",
        "        while True:\n",
        "            try:\n",
        "                mes = i\n",
        "                if not validar_mes(mes):\n",
        "                    raise ValueError(\"Mês inválido. Deve ser um número entre 1 e 12.\")\n",
        "\n",
        "                temp_max = float(input(f\"Informe a temperatura máxima registrada no mês de {obter_mes_extenso(mes)}: \"))\n",
        "                if not validar_temperatura(temp_max):\n",
        "                    raise ValueError(\"Temperatura inválida. Deve estar entre -60°C e 50°C.\")\n",
        "\n",
        "                # Armazena a temperatura válida\n",
        "                temperaturas_maximas.append(temp_max)\n",
        "                break\n",
        "            except ValueError as e:\n",
        "                print(e)\n",
        "\n",
        "    return temperaturas_maximas\n"
      ],
      "metadata": {
        "id": "7UDq3WLH0szO"
      },
      "execution_count": null,
      "outputs": []
    },
    {
      "cell_type": "markdown",
      "source": [
        "## Função: `editar_dados`\n",
        "Esta função permite editar a temperatura máxima de um mês específico, caso o usuário tenha cometido algum erro na entrada dos dados.\n"
      ],
      "metadata": {
        "id": "NT2wTlgX0xDg"
      }
    },
    {
      "cell_type": "code",
      "source": [
        "def editar_dados(temperaturas_maximas):\n",
        "    while True:\n",
        "        try:\n",
        "            # Solicita o mês a ser editado\n",
        "            mes_editar = int(input(\"Digite o número do mês que deseja editar (1-12), ou 0 para sair: \"))\n",
        "            if mes_editar == 0:\n",
        "                break\n",
        "            if not validar_mes(mes_editar):\n",
        "                raise ValueError(\"Mês inválido. Deve ser um número entre 1 e 12.\")\n",
        "\n",
        "            nova_temp = float(input(f\"Informe a nova temperatura máxima para {obter_mes_extenso(mes_editar)}: \"))\n",
        "            if not validar_temperatura(nova_temp):\n",
        "                raise ValueError(\"Temperatura inválida. Deve estar entre -60°C e 50°C.\")\n",
        "\n",
        "            # Atualiza a temperatura do mês\n",
        "            temperaturas_maximas[mes_editar - 1] = nova_temp\n",
        "            print(f\"Temperatura do mês de {obter_mes_extenso(mes_editar)} atualizada para {nova_temp}°C.\\n\")\n",
        "        except ValueError as e:\n",
        "            print(e)\n"
      ],
      "metadata": {
        "id": "zpb6nN3602jT"
      },
      "execution_count": null,
      "outputs": []
    },
    {
      "cell_type": "markdown",
      "source": [
        "## Função: `analisar_dados`\n",
        "Esta função calcula a média das temperaturas máximas anuais, identifica os meses escaldantes, e encontra o mês mais escaldante e o menos quente do ano.\n"
      ],
      "metadata": {
        "id": "7BvKeRzv05TL"
      }
    },
    {
      "cell_type": "code",
      "source": [
        "def analisar_dados(temperaturas_maximas):\n",
        "    temp_media_anual = sum(temperaturas_maximas) / len(temperaturas_maximas)\n",
        "    meses_escaldantes = sum(1 for temp in temperaturas_maximas if temp > 33)\n",
        "    mes_mais_escaldante = temperaturas_maximas.index(max(temperaturas_maximas)) + 1\n",
        "    mes_menos_quente = temperaturas_maximas.index(min(temperaturas_maximas)) + 1\n",
        "\n",
        "    print(f\"\\nTemperatura média máxima anual: {temp_media_anual:.2f}°C\")\n",
        "    print(f\"Quantidade de meses escaldantes: {meses_escaldantes}\")\n",
        "    print(f\"Mês mais escaldante do ano: {obter_mes_extenso(mes_mais_escaldante)} ({max(temperaturas_maximas)}°C)\")\n",
        "    print(f\"Mês menos quente do ano: {obter_mes_extenso(mes_menos_quente)} ({min(temperaturas_maximas)}°C)\")\n"
      ],
      "metadata": {
        "id": "3AI9n7Cy09jW"
      },
      "execution_count": null,
      "outputs": []
    },
    {
      "cell_type": "markdown",
      "source": [
        "## Função Principal: `main`\n",
        "A função `main` executa todo o fluxo do programa, incluindo coleta, edição, análise dos dados e interação com o usuário.\n"
      ],
      "metadata": {
        "id": "2NGYkhsS1Asf"
      }
    },
    {
      "cell_type": "code",
      "source": [
        "def main():\n",
        "    while True:\n",
        "        print(\"\\nInsira os dados meteorológicos para um novo ano.\")\n",
        "        temperaturas_maximas = coletar_dados_ano()\n",
        "\n",
        "        while True:\n",
        "            print(\"\\nEscolha uma opção:\")\n",
        "            print(\"1. Analisar dados\")\n",
        "            print(\"2. Editar temperatura de um mês\")\n",
        "            print(\"3. Inserir dados para outro ano\")\n",
        "            print(\"4. Sair\")\n",
        "\n",
        "            opcao = input(\"Opção: \").strip()\n",
        "\n",
        "            if opcao == '1':\n",
        "                analisar_dados(temperaturas_maximas)\n",
        "            elif opcao == '2':\n",
        "                editar_dados(temperaturas_maximas)\n",
        "            elif opcao == '3':\n",
        "                break\n",
        "            elif opcao == '4':\n",
        "                print(\"Saindo...\")\n",
        "                return\n",
        "            else:\n",
        "                print(\"Opção inválida. Tente novamente.\")\n",
        "\n",
        "if __name__ == \"__main__\":\n",
        "    main()\n"
      ],
      "metadata": {
        "id": "THDtz4Qt1EnD"
      },
      "execution_count": null,
      "outputs": []
    }
  ],
  "metadata": {
    "colab": {
      "provenance": []
    },
    "kernelspec": {
      "display_name": "Python 3",
      "name": "python3"
    }
  },
  "nbformat": 4,
  "nbformat_minor": 0
}